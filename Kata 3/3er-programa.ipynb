{
 "cells": [
  {
   "cell_type": "markdown",
   "metadata": {},
   "source": [
    "# Alerta de Asteroides"
   ]
  },
  {
   "cell_type": "code",
   "execution_count": 3,
   "metadata": {},
   "outputs": [
    {
     "name": "stdout",
     "output_type": "stream",
     "text": [
      "¡Peligro un ASTEROIDE se acerca a una velocidad descomunal!\n"
     ]
    }
   ],
   "source": [
    "asteroide = 49\n",
    "if asteroide > 25:\n",
    "    print('¡Peligro un ASTEROIDE se acerca a una velocidad descomunal!')\n",
    "else:\n",
    "    print('Todo en orden senñores')"
   ]
  },
  {
   "cell_type": "markdown",
   "metadata": {},
   "source": [
    "## Asteroide en la Atmosfera"
   ]
  },
  {
   "cell_type": "code",
   "execution_count": 4,
   "metadata": {},
   "outputs": [
    {
     "name": "stdout",
     "output_type": "stream",
     "text": [
      "No es buen momento para slir a pedir un deseo\n"
     ]
    }
   ],
   "source": [
    "asteroide = 19\n",
    "if asteroide > 20:\n",
    "    print('Sal a pedir un deseo ¡RAPIDO!')\n",
    "elif asteroide == 20:\n",
    "    print('Sal a pedir un deseo ¡RAPIDO!')\n",
    "else:\n",
    "    print('No es buen momento para slir a pedir un deseo')"
   ]
  },
  {
   "cell_type": "markdown",
   "metadata": {},
   "source": [
    "## Alerta de Asteroide entrando en la Atmosfera"
   ]
  },
  {
   "cell_type": "code",
   "execution_count": 10,
   "metadata": {},
   "outputs": [
    {
     "name": "stdout",
     "output_type": "stream",
     "text": [
      "¡EVACUAR A UN LUGAR SEGTURO! REPITO ¡EVACUAR A UN LUGAR SEGTURO!\n"
     ]
    }
   ],
   "source": [
    "VelAsteroide = 25\n",
    "SizeAsteroide = 40\n",
    "if VelAsteroide > 25 or SizeAsteroide > 25:\n",
    "    print('¡EVACUAR A UN LUGAR SEGTURO! REPITO ¡EVACUAR A UN LUGAR SEGTURO!')\n",
    "elif VelAsteroide >= 20:\n",
    "    print('Sal a pedir un deseo ¡RAPIDO!')\n",
    "elif SizeAsteroide < 25:\n",
    "    print('Todo en orden senñores, No es buen momento para slir a pedir un deseo')\n",
    "else:\n",
    "    print('Todo en orden senñores, No es buen momento para slir a pedir un deseo')"
   ]
  }
 ],
 "metadata": {
  "interpreter": {
   "hash": "0b86ff65bd0087168299baef2527a924d722a272d82572aa597e11e3c0d8d82a"
  },
  "kernelspec": {
   "display_name": "Python 3.9.10 64-bit (windows store)",
   "language": "python",
   "name": "python3"
  },
  "language_info": {
   "codemirror_mode": {
    "name": "ipython",
    "version": 3
   },
   "file_extension": ".py",
   "mimetype": "text/x-python",
   "name": "python",
   "nbconvert_exporter": "python",
   "pygments_lexer": "ipython3",
   "version": "3.9.10"
  },
  "orig_nbformat": 4
 },
 "nbformat": 4,
 "nbformat_minor": 2
}
