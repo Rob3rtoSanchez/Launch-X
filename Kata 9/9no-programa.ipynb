{
 "cells": [
  {
   "cell_type": "markdown",
   "metadata": {},
   "source": [
    "# Uso de Funciones"
   ]
  },
  {
   "cell_type": "markdown",
   "metadata": {},
   "source": [
    "### Ejercicio 1"
   ]
  },
  {
   "cell_type": "markdown",
   "metadata": {},
   "source": [
    "### Argumentos en funciones"
   ]
  },
  {
   "cell_type": "code",
   "execution_count": 11,
   "metadata": {},
   "outputs": [
    {
     "name": "stdout",
     "output_type": "stream",
     "text": [
      "Reporte de Combustible:\n",
      "    Promedio total: 83.0%\n",
      "    Tanque 1: 90%\n",
      "    Tanque 2: 75%\n",
      "    Tanque 3: 84% \n",
      "    \n"
     ]
    },
    {
     "data": {
      "text/plain": [
       "65.33333333333333"
      ]
     },
     "execution_count": 11,
     "metadata": {},
     "output_type": "execute_result"
    }
   ],
   "source": [
    "def reporte(tanque1, tanque2, tanque3,):\n",
    "    PromTotal = (tanque1 + tanque2 + tanque3) / 3\n",
    "    return f\"\"\"Reporte de Combustible:\n",
    "    Promedio total: {PromTotal}%\n",
    "    Tanque 1: {tanque1}%\n",
    "    Tanque 2: {tanque2}%\n",
    "    Tanque 3: {tanque3}% \n",
    "    \"\"\"\n",
    "print(reporte(90, 75, 84))\n",
    "def prom(valor):\n",
    "    total = sum(valor)\n",
    "    NumTanques = len(valor)\n",
    "    return total / NumTanques\n",
    "prom([70, 55, 71]) "
   ]
  },
  {
   "cell_type": "markdown",
   "metadata": {},
   "source": [
    "### Ejercicio 2"
   ]
  },
  {
   "cell_type": "markdown",
   "metadata": {},
   "source": [
    "### Argumentos de Palabras Clave"
   ]
  },
  {
   "cell_type": "code",
   "execution_count": 10,
   "metadata": {},
   "outputs": [
    {
     "name": "stdout",
     "output_type": "stream",
     "text": [
      "\n",
      "    Misión a Luna\n",
      "    Tiempo total de viaje: 58 minutos\n",
      "    Combustible restante: 1200000 galones\n",
      "    \n",
      "\n",
      "    Misión a Luna\n",
      "    Tiempo total de viaje: 87 minutos\n",
      "    Combustible restante: 650000\n",
      "    \n",
      "\n",
      "    Misión a Luna\n",
      "    Tiempo total de viaje: 87 minutos\n",
      "    Combustible restante: 650000\n",
      "    principal tanque --> 400000 galones restantes\n",
      "secundario tanque --> 250000 galones restantes\n",
      "\n"
     ]
    }
   ],
   "source": [
    "def ReporteMision(TiemPreLanz, TiemVuel, destino, tanque1, tanque2):\n",
    "    return f\"\"\"\n",
    "    Misión a {destino}\n",
    "    Tiempo total de viaje: {TiemPreLanz + TiemVuel} minutos\n",
    "    Combustible restante: {tanque2 + tanque1} galones\n",
    "    \"\"\"\n",
    "print(ReporteMision(10, 48, \"Luna\", 500000, 700000))\n",
    "def ReporteMision(destino, *minutos, **reserva):\n",
    "    return f\"\"\"\n",
    "    Misión a {destino}\n",
    "    Tiempo total de viaje: {sum(minutos)} minutos\n",
    "    Combustible restante: {sum(reserva.values())}\n",
    "    \"\"\"\n",
    "print(ReporteMision(\"Luna\", 7, 20, 60, principal=400000, secundario=250000))\n",
    "def ReporteMision(destino, *minutos, **reserva):\n",
    "    reporte = f\"\"\"\n",
    "    Misión a {destino}\n",
    "    Tiempo total de viaje: {sum(minutos)} minutos\n",
    "    Combustible restante: {sum(reserva.values())}\n",
    "    \"\"\"\n",
    "    for tanque, galones in reserva.items():\n",
    "        reporte += f\"{tanque} tanque --> {galones} galones restantes\\n\"\n",
    "    return reporte\n",
    "print(ReporteMision(\"Luna\", 7, 20, 60, principal=400000, secundario=250000))"
   ]
  }
 ],
 "metadata": {
  "interpreter": {
   "hash": "0b86ff65bd0087168299baef2527a924d722a272d82572aa597e11e3c0d8d82a"
  },
  "kernelspec": {
   "display_name": "Python 3.9.10 64-bit (windows store)",
   "language": "python",
   "name": "python3"
  },
  "language_info": {
   "codemirror_mode": {
    "name": "ipython",
    "version": 3
   },
   "file_extension": ".py",
   "mimetype": "text/x-python",
   "name": "python",
   "nbconvert_exporter": "python",
   "pygments_lexer": "ipython3",
   "version": "3.9.10"
  },
  "orig_nbformat": 4
 },
 "nbformat": 4,
 "nbformat_minor": 2
}
