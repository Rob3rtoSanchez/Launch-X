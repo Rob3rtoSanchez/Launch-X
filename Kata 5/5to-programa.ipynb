{
 "cells": [
  {
   "cell_type": "markdown",
   "metadata": {},
   "source": [
    "# Operadores Aritmeticos"
   ]
  },
  {
   "cell_type": "markdown",
   "metadata": {},
   "source": [
    "### Ejercicio 1"
   ]
  },
  {
   "cell_type": "code",
   "execution_count": 9,
   "metadata": {},
   "outputs": [
    {
     "name": "stdout",
     "output_type": "stream",
     "text": [
      "628949330 km\n",
      "390577533.93 millas\n"
     ]
    }
   ],
   "source": [
    "PlanetaTierra = 149597870 \n",
    "PlanetaJupiter = 778547200\n",
    "distKm = PlanetaJupiter - PlanetaTierra\n",
    "distMi = distKm * 0.621\n",
    "print(str(distKm) + \" km\")\n",
    "print(str(distMi) +\" millas\" )"
   ]
  },
  {
   "cell_type": "markdown",
   "metadata": {},
   "source": [
    "### Ejercicio 2"
   ]
  },
  {
   "cell_type": "markdown",
   "metadata": {},
   "source": [
    "\n",
    "#### Planeta\t    Distancia al sol\n",
    "#### Mercurio\t57900000\n",
    "#### Venus\t    108200000\n",
    "#### Tierra\t    149600000\n",
    "#### Marte\t    227900000\n",
    "#### Júpiter\t    778600000\n",
    "#### Saturno\t    1433500000\n",
    "#### Urano\t    2872500000\n",
    "#### Neptuno\t    4495100000"
   ]
  },
  {
   "cell_type": "code",
   "execution_count": 12,
   "metadata": {},
   "outputs": [
    {
     "name": "stdout",
     "output_type": "stream",
     "text": [
      "78300000 km\n",
      "48624300.0 millas\n"
     ]
    }
   ],
   "source": [
    "Planeta1 = input('Ingresa la distancia del sol para el primer planeta en KM')\n",
    "Planeta2 = input('Ingresa la distancia del sol para el segundo planeta en KM')\n",
    "Planeta1 = int(Planeta1)\n",
    "Planeta2 = int(Planeta2)\n",
    "distKm = Planeta2 - Planeta1\n",
    "distMi = distKm * 0.621\n",
    "b= abs(distMi)\n",
    "print(str(distKm) + \" km\")\n",
    "print(str(b) +\" millas\" )"
   ]
  }
 ],
 "metadata": {
  "interpreter": {
   "hash": "0b86ff65bd0087168299baef2527a924d722a272d82572aa597e11e3c0d8d82a"
  },
  "kernelspec": {
   "display_name": "Python 3.9.10 64-bit (windows store)",
   "language": "python",
   "name": "python3"
  },
  "language_info": {
   "codemirror_mode": {
    "name": "ipython",
    "version": 3
   },
   "file_extension": ".py",
   "mimetype": "text/x-python",
   "name": "python",
   "nbconvert_exporter": "python",
   "pygments_lexer": "ipython3",
   "version": "3.9.10"
  },
  "orig_nbformat": 4
 },
 "nbformat": 4,
 "nbformat_minor": 2
}
