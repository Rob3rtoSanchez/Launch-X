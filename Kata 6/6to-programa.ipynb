{
 "cells": [
  {
   "cell_type": "markdown",
   "metadata": {},
   "source": [
    "# Lista de los Planetas"
   ]
  },
  {
   "cell_type": "code",
   "execution_count": 3,
   "metadata": {},
   "outputs": [
    {
     "name": "stdout",
     "output_type": "stream",
     "text": [
      "Tenemos 8 planetas\n",
      "Pluto es el ultimo planeta\n"
     ]
    }
   ],
   "source": [
    "planets = ['Mercurio', 'Venus', 'Tierra', 'Marte', 'Jupiter', 'Saturno', 'Neptuno']\n",
    "print('Tenemos', len(planets), 'planetas')\n",
    "planets.append('Pluton')\n",
    "print(planets[-1], 'es el ultimo planeta')"
   ]
  },
  {
   "cell_type": "code",
   "execution_count": 9,
   "metadata": {},
   "outputs": [
    {
     "name": "stdout",
     "output_type": "stream",
     "text": [
      "Los planetas más cercanos al planeta Mercurio desde el sol\n",
      "[]\n",
      "Los planetas más lejanos al planeta Mercurio desde el sol\n",
      "['Venus', 'Tierra', 'Marte', 'Jupiter', 'Saturno', 'Neptuno']\n"
     ]
    }
   ],
   "source": [
    "planets = ['Mercurio', 'Venus', 'Tierra', 'Marte', 'Jupiter', 'Saturno', 'Neptuno']\n",
    "InPlanet = input('Ingresa el nombre del planeta utilizano la letra inicial en mayusculas')\n",
    "DirPlanets = planets.index(InPlanet)\n",
    "print('Los planetas más cercanos al planeta ' + InPlanet + ' desde el sol')\n",
    "print(planets[0:DirPlanets])\n",
    "print('Los planetas más lejanos al planeta ' + InPlanet + ' desde el sol')\n",
    "print(planets[DirPlanets + 1:])"
   ]
  }
 ],
 "metadata": {
  "interpreter": {
   "hash": "0b86ff65bd0087168299baef2527a924d722a272d82572aa597e11e3c0d8d82a"
  },
  "kernelspec": {
   "display_name": "Python 3.9.10 64-bit (windows store)",
   "language": "python",
   "name": "python3"
  },
  "language_info": {
   "codemirror_mode": {
    "name": "ipython",
    "version": 3
   },
   "file_extension": ".py",
   "mimetype": "text/x-python",
   "name": "python",
   "nbconvert_exporter": "python",
   "pygments_lexer": "ipython3",
   "version": "3.9.10"
  },
  "orig_nbformat": 4
 },
 "nbformat": 4,
 "nbformat_minor": 2
}
